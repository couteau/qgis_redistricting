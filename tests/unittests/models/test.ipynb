{
 "cells": [
  {
   "cell_type": "code",
   "execution_count": 2,
   "metadata": {},
   "outputs": [
    {
     "ename": "ValueError",
     "evalue": "only recognize index or columns for orient",
     "output_type": "error",
     "traceback": [
      "\u001b[0;31m---------------------------------------------------------------------------\u001b[0m",
      "\u001b[0;31mValueError\u001b[0m                                Traceback (most recent call last)",
      "\u001b[0;32m/var/folders/7b/j6zzgg8j1v3d83xn_msb1xnw0000gn/T/ipykernel_38980/2544467220.py\u001b[0m in \u001b[0;36m?\u001b[0;34m()\u001b[0m\n\u001b[0;32m---> 44\u001b[0;31m \u001b[0;32mimport\u001b[0m \u001b[0mpandas\u001b[0m \u001b[0;32mas\u001b[0m \u001b[0mpd\u001b[0m\u001b[0;34m\u001b[0m\u001b[0;34m\u001b[0m\u001b[0m\n\u001b[0m\u001b[1;32m     45\u001b[0m \u001b[0;32mimport\u001b[0m \u001b[0mjson\u001b[0m\u001b[0;34m\u001b[0m\u001b[0;34m\u001b[0m\u001b[0m\n\u001b[1;32m     46\u001b[0m data = {\n\u001b[1;32m     47\u001b[0m                 'index': [\n",
      "\u001b[0;32m~/anaconda3/envs/qgis_plugin_py39/lib/python3.9/site-packages/pandas/core/frame.py\u001b[0m in \u001b[0;36m?\u001b[0;34m(cls, data, orient, dtype, columns)\u001b[0m\n\u001b[1;32m   1587\u001b[0m         \u001b[0;32melif\u001b[0m \u001b[0morient\u001b[0m \u001b[0;34m==\u001b[0m \u001b[0;34m\"columns\"\u001b[0m\u001b[0;34m:\u001b[0m\u001b[0;34m\u001b[0m\u001b[0;34m\u001b[0m\u001b[0m\n\u001b[1;32m   1588\u001b[0m             \u001b[0;32mif\u001b[0m \u001b[0mcolumns\u001b[0m \u001b[0;32mis\u001b[0m \u001b[0;32mnot\u001b[0m \u001b[0;32mNone\u001b[0m\u001b[0;34m:\u001b[0m\u001b[0;34m\u001b[0m\u001b[0;34m\u001b[0m\u001b[0m\n\u001b[1;32m   1589\u001b[0m                 \u001b[0;32mraise\u001b[0m \u001b[0mValueError\u001b[0m\u001b[0;34m(\u001b[0m\u001b[0;34m\"cannot use columns parameter with orient='columns'\"\u001b[0m\u001b[0;34m)\u001b[0m\u001b[0;34m\u001b[0m\u001b[0;34m\u001b[0m\u001b[0m\n\u001b[1;32m   1590\u001b[0m         \u001b[0;32melse\u001b[0m\u001b[0;34m:\u001b[0m  \u001b[0;31m# pragma: no cover\u001b[0m\u001b[0;34m\u001b[0m\u001b[0;34m\u001b[0m\u001b[0m\n\u001b[0;32m-> 1591\u001b[0;31m             \u001b[0;32mraise\u001b[0m \u001b[0mValueError\u001b[0m\u001b[0;34m(\u001b[0m\u001b[0;34m\"only recognize index or columns for orient\"\u001b[0m\u001b[0;34m)\u001b[0m\u001b[0;34m\u001b[0m\u001b[0;34m\u001b[0m\u001b[0m\n\u001b[0m\u001b[1;32m   1592\u001b[0m \u001b[0;34m\u001b[0m\u001b[0m\n\u001b[1;32m   1593\u001b[0m         \u001b[0;32mreturn\u001b[0m \u001b[0mcls\u001b[0m\u001b[0;34m(\u001b[0m\u001b[0mdata\u001b[0m\u001b[0;34m,\u001b[0m \u001b[0mindex\u001b[0m\u001b[0;34m=\u001b[0m\u001b[0mindex\u001b[0m\u001b[0;34m,\u001b[0m \u001b[0mcolumns\u001b[0m\u001b[0;34m=\u001b[0m\u001b[0mcolumns\u001b[0m\u001b[0;34m,\u001b[0m \u001b[0mdtype\u001b[0m\u001b[0;34m=\u001b[0m\u001b[0mdtype\u001b[0m\u001b[0;34m)\u001b[0m\u001b[0;34m\u001b[0m\u001b[0;34m\u001b[0m\u001b[0m\n",
      "\u001b[0;31mValueError\u001b[0m: only recognize index or columns for orient"
     ]
    }
   ],
   "source": [
    "import pandas as pd\n",
    "import json\n",
    "data = {\n",
    "                'index': [\n",
    "                    ('0116312', 1), ('0116312', 5),\n",
    "                    ('0135704', 2), ('0135704', 3),\n",
    "                    ('0155200', 1), ('0155200', 3), ('0155200', 5),\n",
    "                    ('0177256', 1), ('0177256', 2), ('0177256', 3), ('0177256', 4), ('0177256', 5)\n",
    "                ],\n",
    "                'columns': [\n",
    "                    'population', 'vap_total', 'cvap_total',\n",
    "                    'pop_ap_black', 'pop_nh_black', 'pop_nh_white', 'pop_hispanic',\n",
    "                    'vap_ap_black', 'vap_nh_black', 'vap_nh_white', 'vap_hispanic',\n",
    "                    'cvap_black', 'cvap_white', 'cvap_hispanic', '__name'\n",
    "                ],\n",
    "                'data': [\n",
    "                    [218, 175, 135.29713548862486, 10, 9, 185, 8, 8, 8, 152, 6,\n",
    "                        0.6392045454545454, 138.7364093116297, 1.556338028169014, 'Coker'],\n",
    "                    [686, 525, 472.8268004501125, 20, 13, 631, 24, 17, 11, 488, 13,\n",
    "                        11.968421052631578, 566.2189607120381, 0.851063829787234, 'Coker'],\n",
    "                    [501, 362, 352.8831229157503, 252, 239, 154, 86, 167, 161, 138, 47,\n",
    "                        161.84417781297097, 165.7105828632823, 23.4371921182266, 'Holt'],\n",
    "                    [2912, 2206, 2120.697489306718, 1601, 1543, 806, 481, 1206, 1178, 686,\n",
    "                        296, 1163.768235017867, 857.6174964307879, 57.757362194815, 'Holt'],\n",
    "                    [23353, 17562, 17485.7716174201, 4434, 4222, 16605, 1376, 3153, 3053, 12856,\n",
    "                        883, 2412.626482494558, 14421.326740052353, 141.98275442148392, 'Northport'],\n",
    "                    [3098, 2152, 2319.743482263867, 1973, 1908, 681, 390, 1262, 1219, 609, 235,\n",
    "                        1707.3620228766558, 521.6544782826682, 79.72727272727273, 'Northport'],\n",
    "                    [4674, 3833, 3888.9008066881784, 1687, 1624, 2590, 287, 1242, 1205, 2336, 165,\n",
    "                        1171.3546978557506, 2578.250887311446, 3.2727272727272725, 'Northport'],\n",
    "                    [464, 325, 364.232826782868, 40, 21, 360, 32, 19, 11, 267, 17,\n",
    "                        10.852813852813853, 326.0579895542555, 4.2857142857142865, 'Tuscaloosa'],\n",
    "                    [13270, 11086, 10828.493513577612, 4769, 4542, 7204, 653, 3620, 3464, 6469, 453,\n",
    "                        3786.894560780294, 6503.099828570596, 305.29397523516855, 'Tuscaloosa'],\n",
    "                    [38281, 32639, 33513.06700370153, 7649, 7198, 25184, 3196, 6085, 5775, 21859,\n",
    "                        2857, 6151.846921250078, 24691.265696660597, 1496.7419995033654, 'Tuscaloosa'],\n",
    "                    [17316, 13812, 15706.960974809352, 11027, 10734, 5355, 497, 8302, 8120, 4773,\n",
    "                        358, 9114.127351509875, 5866.333259898235, 371.23852377436845, 'Tuscaloosa'],\n",
    "                    [30269, 24901, 23338.63540711246, 18833, 18372, 9560, 1060, 14343, 14016, 9074,\n",
    "                        773, 15577.042696194067, 7257.860073425359, 287.13755707762556, 'Tuscaloosa']\n",
    "                ],\n",
    "            }\n",
    "\n",
    "df = pd.DataFrame.from_dict(data | {\"index_names\": [\"geoid\", \"district\"], \"column_names\": [None]}, orient=\"tight\")"
   ]
  },
  {
   "cell_type": "code",
   "execution_count": null,
   "metadata": {},
   "outputs": [],
   "source": [
    "json_data = {\"schema\":{\"fields\":[{\"name\":\"geoid\",\"type\":\"string\"},{\"name\":\"district\",\"type\":\"integer\"},{\"name\":\"population\",\"type\":\"integer\"},{\"name\":\"vap_total\",\"type\":\"integer\"},{\"name\":\"cvap_total\",\"type\":\"number\"},{\"name\":\"pop_ap_black\",\"type\":\"integer\"},{\"name\":\"pop_nh_black\",\"type\":\"integer\"},{\"name\":\"pop_nh_white\",\"type\":\"integer\"},{\"name\":\"pop_hispanic\",\"type\":\"integer\"},{\"name\":\"vap_ap_black\",\"type\":\"integer\"},{\"name\":\"vap_nh_black\",\"type\":\"integer\"},{\"name\":\"vap_nh_white\",\"type\":\"integer\"},{\"name\":\"vap_hispanic\",\"type\":\"integer\"},{\"name\":\"cvap_black\",\"type\":\"number\"},{\"name\":\"cvap_white\",\"type\":\"number\"},{\"name\":\"cvap_hispanic\",\"type\":\"number\"},{\"name\":\"__name\",\"type\":\"string\"}],\"primaryKey\":[\"geoid\",\"district\"],\"pandas_version\":\"1.4.0\"},\"data\":[{\"geoid\":\"0116312\",\"district\":1,\"population\":218,\"vap_total\":175,\"cvap_total\":135.29713548862486,\"pop_ap_black\":10,\"pop_nh_black\":9,\"pop_nh_white\":185,\"pop_hispanic\":8,\"vap_ap_black\":8,\"vap_nh_black\":8,\"vap_nh_white\":152,\"vap_hispanic\":6,\"cvap_black\":0.639204545454545,\"cvap_white\":138.7364093116297,\"cvap_hispanic\":1.556338028169014,\"__name\":\"Coker\"},{\"geoid\":\"0116312\",\"district\":5,\"population\":686,\"vap_total\":525,\"cvap_total\":472.826800450112501,\"pop_ap_black\":20,\"pop_nh_black\":13,\"pop_nh_white\":631,\"pop_hispanic\":24,\"vap_ap_black\":17,\"vap_nh_black\":11,\"vap_nh_white\":488,\"vap_hispanic\":13,\"cvap_black\":11.968421052631578,\"cvap_white\":566.218960712038097,\"cvap_hispanic\":0.851063829787234,\"__name\":\"Coker\"},{\"geoid\":\"0135704\",\"district\":2,\"population\":501,\"vap_total\":362,\"cvap_total\":352.883122915750278,\"pop_ap_black\":252,\"pop_nh_black\":239,\"pop_nh_white\":154,\"pop_hispanic\":86,\"vap_ap_black\":167,\"vap_nh_black\":161,\"vap_nh_white\":138,\"vap_hispanic\":47,\"cvap_black\":161.844177812970969,\"cvap_white\":165.710582863282298,\"cvap_hispanic\":23.437192118226601,\"__name\":\"Holt\"},{\"geoid\":\"0135704\",\"district\":3,\"population\":2912,\"vap_total\":2206,\"cvap_total\":2120.697489306718126,\"pop_ap_black\":1601,\"pop_nh_black\":1543,\"pop_nh_white\":806,\"pop_hispanic\":481,\"vap_ap_black\":1206,\"vap_nh_black\":1178,\"vap_nh_white\":686,\"vap_hispanic\":296,\"cvap_black\":1163.768235017867028,\"cvap_white\":857.617496430787924,\"cvap_hispanic\":57.757362194815002,\"__name\":\"Holt\"},{\"geoid\":\"0155200\",\"district\":1,\"population\":23353,\"vap_total\":17562,\"cvap_total\":17485.771617420101393,\"pop_ap_black\":4434,\"pop_nh_black\":4222,\"pop_nh_white\":16605,\"pop_hispanic\":1376,\"vap_ap_black\":3153,\"vap_nh_black\":3053,\"vap_nh_white\":12856,\"vap_hispanic\":883,\"cvap_black\":2412.626482494557877,\"cvap_white\":14421.326740052352761,\"cvap_hispanic\":141.982754421483918,\"__name\":\"Northport\"},{\"geoid\":\"0155200\",\"district\":3,\"population\":3098,\"vap_total\":2152,\"cvap_total\":2319.743482263867008,\"pop_ap_black\":1973,\"pop_nh_black\":1908,\"pop_nh_white\":681,\"pop_hispanic\":390,\"vap_ap_black\":1262,\"vap_nh_black\":1219,\"vap_nh_white\":609,\"vap_hispanic\":235,\"cvap_black\":1707.362022876655828,\"cvap_white\":521.654478282668151,\"cvap_hispanic\":79.727272727272734,\"__name\":\"Northport\"},{\"geoid\":\"0155200\",\"district\":5,\"population\":4674,\"vap_total\":3833,\"cvap_total\":3888.900806688178363,\"pop_ap_black\":1687,\"pop_nh_black\":1624,\"pop_nh_white\":2590,\"pop_hispanic\":287,\"vap_ap_black\":1242,\"vap_nh_black\":1205,\"vap_nh_white\":2336,\"vap_hispanic\":165,\"cvap_black\":1171.354697855750601,\"cvap_white\":2578.250887311446149,\"cvap_hispanic\":3.272727272727272,\"__name\":\"Northport\"},{\"geoid\":\"0177256\",\"district\":1,\"population\":464,\"vap_total\":325,\"cvap_total\":364.232826782868017,\"pop_ap_black\":40,\"pop_nh_black\":21,\"pop_nh_white\":360,\"pop_hispanic\":32,\"vap_ap_black\":19,\"vap_nh_black\":11,\"vap_nh_white\":267,\"vap_hispanic\":17,\"cvap_black\":10.852813852813853,\"cvap_white\":326.057989554255528,\"cvap_hispanic\":4.285714285714286,\"__name\":\"Tuscaloosa\"},{\"geoid\":\"0177256\",\"district\":2,\"population\":13270,\"vap_total\":11086,\"cvap_total\":10828.493513577612248,\"pop_ap_black\":4769,\"pop_nh_black\":4542,\"pop_nh_white\":7204,\"pop_hispanic\":653,\"vap_ap_black\":3620,\"vap_nh_black\":3464,\"vap_nh_white\":6469,\"vap_hispanic\":453,\"cvap_black\":3786.894560780293887,\"cvap_white\":6503.099828570596401,\"cvap_hispanic\":305.293975235168546,\"__name\":\"Tuscaloosa\"},{\"geoid\":\"0177256\",\"district\":3,\"population\":38281,\"vap_total\":32639,\"cvap_total\":33513.067003701529757,\"pop_ap_black\":7649,\"pop_nh_black\":7198,\"pop_nh_white\":25184,\"pop_hispanic\":3196,\"vap_ap_black\":6085,\"vap_nh_black\":5775,\"vap_nh_white\":21859,\"vap_hispanic\":2857,\"cvap_black\":6151.846921250077685,\"cvap_white\":24691.265696660597314,\"cvap_hispanic\":1496.741999503365378,\"__name\":\"Tuscaloosa\"},{\"geoid\":\"0177256\",\"district\":4,\"population\":17316,\"vap_total\":13812,\"cvap_total\":15706.960974809351683,\"pop_ap_black\":11027,\"pop_nh_black\":10734,\"pop_nh_white\":5355,\"pop_hispanic\":497,\"vap_ap_black\":8302,\"vap_nh_black\":8120,\"vap_nh_white\":4773,\"vap_hispanic\":358,\"cvap_black\":9114.127351509874643,\"cvap_white\":5866.333259898235156,\"cvap_hispanic\":371.238523774368446,\"__name\":\"Tuscaloosa\"},{\"geoid\":\"0177256\",\"district\":5,\"population\":30269,\"vap_total\":24901,\"cvap_total\":23338.635407112458779,\"pop_ap_black\":18833,\"pop_nh_black\":18372,\"pop_nh_white\":9560,\"pop_hispanic\":1060,\"vap_ap_black\":14343,\"vap_nh_black\":14016,\"vap_nh_white\":9074,\"vap_hispanic\":773,\"cvap_black\":15577.042696194066593,\"cvap_white\":7257.860073425358678,\"cvap_hispanic\":287.137557077625559,\"__name\":\"Tuscaloosa\"}]}\n",
    "pd.read_json(json_data, orient=\"table\")"
   ]
  },
  {
   "cell_type": "code",
   "execution_count": null,
   "metadata": {},
   "outputs": [],
   "source": [
    "df.to_json(orient=\"table\", double_precision=15)\n"
   ]
  },
  {
   "cell_type": "code",
   "execution_count": null,
   "metadata": {},
   "outputs": [],
   "source": [
    "len(json.loads(j)['index'])\n"
   ]
  },
  {
   "cell_type": "code",
   "execution_count": 15,
   "metadata": {},
   "outputs": [],
   "source": [
    "df = pd.DataFrame(dtype=\"Int64\")\n"
   ]
  },
  {
   "cell_type": "code",
   "execution_count": 16,
   "metadata": {},
   "outputs": [
    {
     "data": {
      "text/plain": [
       "'Index'"
      ]
     },
     "execution_count": 16,
     "metadata": {},
     "output_type": "execute_result"
    }
   ],
   "source": [
    "df.index.__class__.__name__"
   ]
  }
 ],
 "metadata": {
  "kernelspec": {
   "display_name": "qgis_plugin",
   "language": "python",
   "name": "python3"
  },
  "language_info": {
   "codemirror_mode": {
    "name": "ipython",
    "version": 3
   },
   "file_extension": ".py",
   "mimetype": "text/x-python",
   "name": "python",
   "nbconvert_exporter": "python",
   "pygments_lexer": "ipython3",
   "version": "3.9.20"
  }
 },
 "nbformat": 4,
 "nbformat_minor": 2
}
